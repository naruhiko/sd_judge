{
 "cells": [
  {
   "cell_type": "code",
   "execution_count": 8,
   "outputs": [],
   "source": [
    "import numpy as np\n",
    "import pandas as pd\n",
    "import scipy as sp\n",
    "import matplotlib\n",
    "import matplotlib.pyplot as plt\n",
    "from statistics import stdev\n",
    "matplotlib.use('Agg')\n",
    "%matplotlib inline\n"
   ],
   "metadata": {
    "collapsed": false,
    "pycharm": {
     "name": "#%%\n",
     "is_executing": false
    }
   }
  },
  {
   "cell_type": "code",
   "execution_count": 9,
   "outputs": [
    {
     "data": {
      "text/plain": "   B-Prime\n0      578\n1     1000\n2      188\n3      144\n4      640",
      "text/html": "<div>\n<style scoped>\n    .dataframe tbody tr th:only-of-type {\n        vertical-align: middle;\n    }\n\n    .dataframe tbody tr th {\n        vertical-align: top;\n    }\n\n    .dataframe thead th {\n        text-align: right;\n    }\n</style>\n<table border=\"1\" class=\"dataframe\">\n  <thead>\n    <tr style=\"text-align: right;\">\n      <th></th>\n      <th>B-Prime</th>\n    </tr>\n  </thead>\n  <tbody>\n    <tr>\n      <th>0</th>\n      <td>578</td>\n    </tr>\n    <tr>\n      <th>1</th>\n      <td>1000</td>\n    </tr>\n    <tr>\n      <th>2</th>\n      <td>188</td>\n    </tr>\n    <tr>\n      <th>3</th>\n      <td>144</td>\n    </tr>\n    <tr>\n      <th>4</th>\n      <td>640</td>\n    </tr>\n  </tbody>\n</table>\n</div>"
     },
     "metadata": {},
     "output_type": "execute_result",
     "execution_count": 9
    }
   ],
   "source": [
    "data = pd.read_csv('exp_beer.csv')\n",
    "df_beer = data.iloc[:, [1]]\n",
    "df_b_beer = data.iloc[:, [2]]\n",
    "#print(df_beer)\n",
    "df_b_beer.head()"
   ],
   "metadata": {
    "collapsed": false,
    "pycharm": {
     "name": "#%%\n",
     "is_executing": false
    }
   }
  },
  {
   "cell_type": "code",
   "execution_count": 10,
   "outputs": [
    {
     "name": "stdout",
     "text": [
      "Prime:  775.5  SD:  412.93966468076985   B_Prime:  573.0  SD:  390.7576685818918\n"
     ],
     "output_type": "stream"
    },
    {
     "data": {
      "text/plain": "Ttest_relResult(statistic=3.1520866456204724, pvalue=0.01169820303355057)"
     },
     "metadata": {},
     "output_type": "execute_result",
     "execution_count": 10
    },
    {
     "data": {
      "text/plain": "<Figure size 432x288 with 1 Axes>",
      "image/png": "[encoded data removed]"
     },
     "metadata": {
      "needs_background": "light"
     },
     "output_type": "display_data"
    }
   ],
   "source": [
    "data.head()\n",
    "np.mean(data)\n",
    "\n",
    "from scipy import stats\n",
    "import csv\n",
    "prime = []\n",
    "b_prime = []\n",
    "idval = []\n",
    "with open('exp_beer.csv') as f:\n",
    "    \n",
    "    for row in f:\n",
    "        primedata = row.split(',')\n",
    "        int_id = primedata[0]\n",
    "        int_primedata = primedata[1]\n",
    "        int_b_primedata = primedata[2]\n",
    "        idval.append(int_id)\n",
    "        prime.append(int_primedata)\n",
    "        b_prime.append(int_b_primedata.rstrip())\n",
    "        \n",
    "        #print(prime)\n",
    "del idval[0]\n",
    "del idval[-1]\n",
    "del prime[0]\n",
    "del prime[-1]\n",
    "del b_prime[0]\n",
    "del b_prime[-1]\n",
    "\n",
    "ids = [int(s) for s in idval]\n",
    "primebeer = [int(s) for s in prime]\n",
    "b_primebeer = [int(s) for s in b_prime]\n",
    "#print(prime)\n",
    "#print(b_prime)\n",
    "plt.scatter(ids, b_primebeer, marker='^', c='blue', label='Black')\n",
    "plt.scatter(ids, primebeer, marker='o', c='red', label='Lager')\n",
    "plt.legend(loc='upper right')\n",
    "plt.xlabel('S\\'s ID')\n",
    "plt.ylabel('Harmonic Freq. [Hz]')\n",
    "plt.xticks([0, 1, 2, 3, 4, 5, 6, 7, 8, 9, 10, 11])\n",
    "plt.grid()\n",
    "#plt.savefig('fig_beer.png')\n",
    "#fig.show()\n",
    "avg_primebeer = sum(primebeer) / len(primebeer)\n",
    "avg_b_primebeer = sum(b_primebeer) / len(b_primebeer)\n",
    "stdev_primebeer = stdev(primebeer)\n",
    "stdev_b_primebeer = stdev(b_primebeer)\n",
    "\n",
    "print('Prime: ', avg_primebeer, ' SD: ', stdev_primebeer, '  B_Prime: ', avg_b_primebeer, ' SD: ', stdev_b_primebeer)\n",
    "stats.ttest_rel(primebeer, b_primebeer)"
   ],
   "metadata": {
    "collapsed": false,
    "pycharm": {
     "name": "#%%\n",
     "is_executing": false
    }
   }
  },
  {
   "cell_type": "code",
   "execution_count": 16,
   "outputs": [
    {
     "data": {
      "text/plain": "Ttest_relResult(statistic=1.4057614115217347, pvalue=0.20259436615717236)"
     },
     "metadata": {},
     "output_type": "execute_result",
     "execution_count": 16
    }
   ],
   "source": [
    "mstdata = pd.read_csv('mst.csv')\n",
    "first_drunk = mstdata[mstdata['alc'] > 0]\n",
    "fd_pc = first_drunk.iloc[:, [2]]  #first_drunk_percent_correct\n",
    "fd_pc_s = first_drunk.iloc[:, [5]] #second_data\n",
    "\n",
    "li_fd_pc = list(fd_pc.values.flatten())\n",
    "li_fd_pc_s = list(fd_pc_s.values.flatten())\n",
    "\n",
    "#fd_pc.head()\n",
    "\n",
    "stats.ttest_rel(li_fd_pc, li_fd_pc_s) #最初に飲酒した群の1回目と2回目に差があるか"
   ],
   "metadata": {
    "collapsed": false,
    "pycharm": {
     "name": "#%%\n",
     "is_executing": false
    }
   }
  },
  {
   "cell_type": "code",
   "execution_count": 12,
   "outputs": [
    {
     "data": {
      "text/plain": "Ttest_relResult(statistic=-1.1888314763821866, pvalue=0.27941927344836964)"
     },
     "metadata": {},
     "output_type": "execute_result",
     "execution_count": 12
    }
   ],
   "source": [
    "second_drunk = mstdata[mstdata['alc_second'] > 0]\n",
    "sd_pc = second_drunk.iloc[:, [2]] #second_drunk_percent_correct\n",
    "sd_pc_s = second_drunk.iloc[:, [5]] #second_data\n",
    "\n",
    "li_sd_pc = list(sd_pc.values.flatten())\n",
    "li_sd_pc_s = list(sd_pc_s.values.flatten())\n",
    "\n",
    "stats.ttest_rel(li_sd_pc, li_sd_pc_s) #2回目に飲酒した群の1回目と2回目に差があるか"
   ],
   "metadata": {
    "collapsed": false,
    "pycharm": {
     "name": "#%%\n",
     "is_executing": false
    }
   }
  },
  {
   "cell_type": "code",
   "execution_count": 15,
   "outputs": [
    {
     "name": "stdout",
     "text": [
      "FirstDrunk-AUDIT: 6.75  SD: 5.74\nSecondDrunk-AUDIT: 6.142857142857143  SD: 6.08\n"
     ],
     "output_type": "stream"
    },
    {
     "traceback": [
      "\u001b[0;31m---------------------------------------------------------------------------\u001b[0m",
      "\u001b[0;31mValueError\u001b[0m                                Traceback (most recent call last)",
      "\u001b[0;32m<ipython-input-15-00bf136e8921>\u001b[0m in \u001b[0;36m<module>\u001b[0;34m\u001b[0m\n\u001b[1;32m     13\u001b[0m \u001b[0mprint\u001b[0m\u001b[0;34m(\u001b[0m\u001b[0;34m'FirstDrunk-AUDIT: '\u001b[0m \u001b[0;34m+\u001b[0m \u001b[0mstr\u001b[0m\u001b[0;34m(\u001b[0m\u001b[0mavg_fd_audit\u001b[0m\u001b[0;34m)\u001b[0m\u001b[0;34m+\u001b[0m \u001b[0;34m'  SD: {0:.2f}'\u001b[0m\u001b[0;34m.\u001b[0m\u001b[0mformat\u001b[0m\u001b[0;34m(\u001b[0m\u001b[0mstdev_fd_audit\u001b[0m\u001b[0;34m)\u001b[0m \u001b[0;34m+\u001b[0m \u001b[0;34m'\\nSecondDrunk-AUDIT: '\u001b[0m \u001b[0;34m+\u001b[0m \u001b[0mstr\u001b[0m\u001b[0;34m(\u001b[0m\u001b[0mavg_sd_audit\u001b[0m\u001b[0;34m)\u001b[0m \u001b[0;34m+\u001b[0m \u001b[0;34m'  SD: {0:.2f}'\u001b[0m\u001b[0;34m.\u001b[0m\u001b[0mformat\u001b[0m\u001b[0;34m(\u001b[0m\u001b[0mstdev_sd_audit\u001b[0m\u001b[0;34m)\u001b[0m\u001b[0;34m)\u001b[0m \u001b[0;31m#1回目と2回目の飲酒群にAUDITの差があるか\u001b[0m\u001b[0;34m\u001b[0m\u001b[0;34m\u001b[0m\u001b[0m\n\u001b[1;32m     14\u001b[0m \u001b[0;34m\u001b[0m\u001b[0m\n\u001b[0;32m---> 15\u001b[0;31m \u001b[0mplt\u001b[0m\u001b[0;34m.\u001b[0m\u001b[0mplot\u001b[0m\u001b[0;34m(\u001b[0m\u001b[0mli_fd_audit\u001b[0m\u001b[0;34m,\u001b[0m \u001b[0mli_sd_audit\u001b[0m\u001b[0;34m)\u001b[0m\u001b[0;34m\u001b[0m\u001b[0;34m\u001b[0m\u001b[0m\n\u001b[0m\u001b[1;32m     16\u001b[0m \u001b[0mstats\u001b[0m\u001b[0;34m.\u001b[0m\u001b[0mttest_ind\u001b[0m\u001b[0;34m(\u001b[0m\u001b[0mli_fd_audit\u001b[0m\u001b[0;34m,\u001b[0m \u001b[0mli_sd_audit\u001b[0m\u001b[0;34m,\u001b[0m \u001b[0mequal_var\u001b[0m\u001b[0;34m=\u001b[0m\u001b[0;32mFalse\u001b[0m\u001b[0;34m)\u001b[0m\u001b[0;34m\u001b[0m\u001b[0;34m\u001b[0m\u001b[0m\n\u001b[1;32m     17\u001b[0m \u001b[0;31m#stats.bartlett(li_fd_audit, li_sd_audit)\u001b[0m\u001b[0;34m\u001b[0m\u001b[0;34m\u001b[0m\u001b[0;34m\u001b[0m\u001b[0m\n",
      "\u001b[0;32m~/.conda/envs/sotsuron/lib/python3.7/site-packages/matplotlib/pyplot.py\u001b[0m in \u001b[0;36mplot\u001b[0;34m(scalex, scaley, data, *args, **kwargs)\u001b[0m\n\u001b[1;32m   2793\u001b[0m     return gca().plot(\n\u001b[1;32m   2794\u001b[0m         *args, scalex=scalex, scaley=scaley, **({\"data\": data} if data\n\u001b[0;32m-> 2795\u001b[0;31m         is not None else {}), **kwargs)\n\u001b[0m\u001b[1;32m   2796\u001b[0m \u001b[0;34m\u001b[0m\u001b[0m\n\u001b[1;32m   2797\u001b[0m \u001b[0;34m\u001b[0m\u001b[0m\n",
      "\u001b[0;32m~/.conda/envs/sotsuron/lib/python3.7/site-packages/matplotlib/axes/_axes.py\u001b[0m in \u001b[0;36mplot\u001b[0;34m(self, scalex, scaley, data, *args, **kwargs)\u001b[0m\n\u001b[1;32m   1664\u001b[0m         \"\"\"\n\u001b[1;32m   1665\u001b[0m         \u001b[0mkwargs\u001b[0m \u001b[0;34m=\u001b[0m \u001b[0mcbook\u001b[0m\u001b[0;34m.\u001b[0m\u001b[0mnormalize_kwargs\u001b[0m\u001b[0;34m(\u001b[0m\u001b[0mkwargs\u001b[0m\u001b[0;34m,\u001b[0m \u001b[0mmlines\u001b[0m\u001b[0;34m.\u001b[0m\u001b[0mLine2D\u001b[0m\u001b[0;34m.\u001b[0m\u001b[0m_alias_map\u001b[0m\u001b[0;34m)\u001b[0m\u001b[0;34m\u001b[0m\u001b[0;34m\u001b[0m\u001b[0m\n\u001b[0;32m-> 1666\u001b[0;31m         \u001b[0mlines\u001b[0m \u001b[0;34m=\u001b[0m \u001b[0;34m[\u001b[0m\u001b[0;34m*\u001b[0m\u001b[0mself\u001b[0m\u001b[0;34m.\u001b[0m\u001b[0m_get_lines\u001b[0m\u001b[0;34m(\u001b[0m\u001b[0;34m*\u001b[0m\u001b[0margs\u001b[0m\u001b[0;34m,\u001b[0m \u001b[0mdata\u001b[0m\u001b[0;34m=\u001b[0m\u001b[0mdata\u001b[0m\u001b[0;34m,\u001b[0m \u001b[0;34m**\u001b[0m\u001b[0mkwargs\u001b[0m\u001b[0;34m)\u001b[0m\u001b[0;34m]\u001b[0m\u001b[0;34m\u001b[0m\u001b[0;34m\u001b[0m\u001b[0m\n\u001b[0m\u001b[1;32m   1667\u001b[0m         \u001b[0;32mfor\u001b[0m \u001b[0mline\u001b[0m \u001b[0;32min\u001b[0m \u001b[0mlines\u001b[0m\u001b[0;34m:\u001b[0m\u001b[0;34m\u001b[0m\u001b[0;34m\u001b[0m\u001b[0m\n\u001b[1;32m   1668\u001b[0m             \u001b[0mself\u001b[0m\u001b[0;34m.\u001b[0m\u001b[0madd_line\u001b[0m\u001b[0;34m(\u001b[0m\u001b[0mline\u001b[0m\u001b[0;34m)\u001b[0m\u001b[0;34m\u001b[0m\u001b[0;34m\u001b[0m\u001b[0m\n",
      "\u001b[0;32m~/.conda/envs/sotsuron/lib/python3.7/site-packages/matplotlib/axes/_base.py\u001b[0m in \u001b[0;36m__call__\u001b[0;34m(self, *args, **kwargs)\u001b[0m\n\u001b[1;32m    223\u001b[0m                 \u001b[0mthis\u001b[0m \u001b[0;34m+=\u001b[0m \u001b[0margs\u001b[0m\u001b[0;34m[\u001b[0m\u001b[0;36m0\u001b[0m\u001b[0;34m]\u001b[0m\u001b[0;34m,\u001b[0m\u001b[0;34m\u001b[0m\u001b[0;34m\u001b[0m\u001b[0m\n\u001b[1;32m    224\u001b[0m                 \u001b[0margs\u001b[0m \u001b[0;34m=\u001b[0m \u001b[0margs\u001b[0m\u001b[0;34m[\u001b[0m\u001b[0;36m1\u001b[0m\u001b[0;34m:\u001b[0m\u001b[0;34m]\u001b[0m\u001b[0;34m\u001b[0m\u001b[0;34m\u001b[0m\u001b[0m\n\u001b[0;32m--> 225\u001b[0;31m             \u001b[0;32myield\u001b[0m \u001b[0;32mfrom\u001b[0m \u001b[0mself\u001b[0m\u001b[0;34m.\u001b[0m\u001b[0m_plot_args\u001b[0m\u001b[0;34m(\u001b[0m\u001b[0mthis\u001b[0m\u001b[0;34m,\u001b[0m \u001b[0mkwargs\u001b[0m\u001b[0;34m)\u001b[0m\u001b[0;34m\u001b[0m\u001b[0;34m\u001b[0m\u001b[0m\n\u001b[0m\u001b[1;32m    226\u001b[0m \u001b[0;34m\u001b[0m\u001b[0m\n\u001b[1;32m    227\u001b[0m     \u001b[0;32mdef\u001b[0m \u001b[0mget_next_color\u001b[0m\u001b[0;34m(\u001b[0m\u001b[0mself\u001b[0m\u001b[0;34m)\u001b[0m\u001b[0;34m:\u001b[0m\u001b[0;34m\u001b[0m\u001b[0;34m\u001b[0m\u001b[0m\n",
      "\u001b[0;32m~/.conda/envs/sotsuron/lib/python3.7/site-packages/matplotlib/axes/_base.py\u001b[0m in \u001b[0;36m_plot_args\u001b[0;34m(self, tup, kwargs)\u001b[0m\n\u001b[1;32m    389\u001b[0m             \u001b[0mx\u001b[0m\u001b[0;34m,\u001b[0m \u001b[0my\u001b[0m \u001b[0;34m=\u001b[0m \u001b[0mindex_of\u001b[0m\u001b[0;34m(\u001b[0m\u001b[0mtup\u001b[0m\u001b[0;34m[\u001b[0m\u001b[0;34m-\u001b[0m\u001b[0;36m1\u001b[0m\u001b[0;34m]\u001b[0m\u001b[0;34m)\u001b[0m\u001b[0;34m\u001b[0m\u001b[0;34m\u001b[0m\u001b[0m\n\u001b[1;32m    390\u001b[0m \u001b[0;34m\u001b[0m\u001b[0m\n\u001b[0;32m--> 391\u001b[0;31m         \u001b[0mx\u001b[0m\u001b[0;34m,\u001b[0m \u001b[0my\u001b[0m \u001b[0;34m=\u001b[0m \u001b[0mself\u001b[0m\u001b[0;34m.\u001b[0m\u001b[0m_xy_from_xy\u001b[0m\u001b[0;34m(\u001b[0m\u001b[0mx\u001b[0m\u001b[0;34m,\u001b[0m \u001b[0my\u001b[0m\u001b[0;34m)\u001b[0m\u001b[0;34m\u001b[0m\u001b[0;34m\u001b[0m\u001b[0m\n\u001b[0m\u001b[1;32m    392\u001b[0m \u001b[0;34m\u001b[0m\u001b[0m\n\u001b[1;32m    393\u001b[0m         \u001b[0;32mif\u001b[0m \u001b[0mself\u001b[0m\u001b[0;34m.\u001b[0m\u001b[0mcommand\u001b[0m \u001b[0;34m==\u001b[0m \u001b[0;34m'plot'\u001b[0m\u001b[0;34m:\u001b[0m\u001b[0;34m\u001b[0m\u001b[0;34m\u001b[0m\u001b[0m\n",
      "\u001b[0;32m~/.conda/envs/sotsuron/lib/python3.7/site-packages/matplotlib/axes/_base.py\u001b[0m in \u001b[0;36m_xy_from_xy\u001b[0;34m(self, x, y)\u001b[0m\n\u001b[1;32m    268\u001b[0m         \u001b[0;32mif\u001b[0m \u001b[0mx\u001b[0m\u001b[0;34m.\u001b[0m\u001b[0mshape\u001b[0m\u001b[0;34m[\u001b[0m\u001b[0;36m0\u001b[0m\u001b[0;34m]\u001b[0m \u001b[0;34m!=\u001b[0m \u001b[0my\u001b[0m\u001b[0;34m.\u001b[0m\u001b[0mshape\u001b[0m\u001b[0;34m[\u001b[0m\u001b[0;36m0\u001b[0m\u001b[0;34m]\u001b[0m\u001b[0;34m:\u001b[0m\u001b[0;34m\u001b[0m\u001b[0;34m\u001b[0m\u001b[0m\n\u001b[1;32m    269\u001b[0m             raise ValueError(\"x and y must have same first dimension, but \"\n\u001b[0;32m--> 270\u001b[0;31m                              \"have shapes {} and {}\".format(x.shape, y.shape))\n\u001b[0m\u001b[1;32m    271\u001b[0m         \u001b[0;32mif\u001b[0m \u001b[0mx\u001b[0m\u001b[0;34m.\u001b[0m\u001b[0mndim\u001b[0m \u001b[0;34m>\u001b[0m \u001b[0;36m2\u001b[0m \u001b[0;32mor\u001b[0m \u001b[0my\u001b[0m\u001b[0;34m.\u001b[0m\u001b[0mndim\u001b[0m \u001b[0;34m>\u001b[0m \u001b[0;36m2\u001b[0m\u001b[0;34m:\u001b[0m\u001b[0;34m\u001b[0m\u001b[0;34m\u001b[0m\u001b[0m\n\u001b[1;32m    272\u001b[0m             raise ValueError(\"x and y can be no greater than 2-D, but have \"\n",
      "\u001b[0;31mValueError\u001b[0m: x and y must have same first dimension, but have shapes (8,) and (7,)"
     ],
     "ename": "ValueError",
     "evalue": "x and y must have same first dimension, but have shapes (8,) and (7,)",
     "output_type": "error"
    },
    {
     "data": {
      "text/plain": "<Figure size 432x288 with 1 Axes>",
      "image/png": "[encoded data removed]"
     },
     "metadata": {
      "needs_background": "light"
     },
     "output_type": "display_data"
    }
   ],
   "source": [
    "fd_audit = first_drunk.iloc[:, [7]] #first_drunk_audit\n",
    "sd_audit = second_drunk.iloc[:, [7]] #second_drunk_audit\n",
    "\n",
    "li_fd_audit = list(fd_audit.values.flatten())\n",
    "li_sd_audit = list(sd_audit.values.flatten())\n",
    "\n",
    "avg_fd_audit = sum(li_fd_audit) / len(li_fd_audit) #average_fd_audit\n",
    "avg_sd_audit = sum(li_sd_audit) / len(li_sd_audit) #average_sd_audit\n",
    "\n",
    "stdev_fd_audit = stdev(li_fd_audit)\n",
    "stdev_sd_audit = stdev(li_sd_audit)\n",
    "\n",
    "print('FirstDrunk-AUDIT: ' + str(avg_fd_audit)+ '  SD: {0:.2f}'.format(stdev_fd_audit) + '\\nSecondDrunk-AUDIT: ' + str(avg_sd_audit) + '  SD: {0:.2f}'.format(stdev_sd_audit)) #1回目と2回目の飲酒群にAUDITの差があるか\n",
    "\n",
    "#plt.(li_fd_audit, li_sd_audit)\n",
    "stats.ttest_ind(li_fd_audit, li_sd_audit, equal_var=False)\n",
    "#stats.bartlett(li_fd_audit, li_sd_audit)\n",
    "#stats.shapiro()"
   ],
   "metadata": {
    "collapsed": false,
    "pycharm": {
     "name": "#%%\n",
     "is_executing": false
    }
   }
  },
  {
   "cell_type": "code",
   "execution_count": 10,
   "outputs": [
    {
     "name": "stdout",
     "text": [
      "exp-one-time: 15.466666666666667  SD: 1.81\nexp-two-time: 15.433333333333334  SD: 2.44\n"
     ],
     "output_type": "stream"
    }
   ],
   "source": [
    "exp_first_time = mstdata.iloc[:, [10]]\n",
    "exp_second_time = mstdata.iloc[:, [11]]\n",
    "\n",
    "li_ef_t = list(exp_first_time.values.flatten()) #exp-1-starts-time\n",
    "li_es_t = list(exp_second_time.values.flatten()) #exp-2-starts-time\n",
    "\n",
    "avg_ef_t = sum(li_ef_t) / len(li_ef_t)\n",
    "avg_es_t = sum(li_es_t) / len(li_es_t)\n",
    "\n",
    "stdev_ef_t = stdev(li_ef_t)\n",
    "stdev_es_t = stdev(li_es_t)\n",
    "\n",
    "print('exp-one-time: ' + str(avg_ef_t) + '  SD: {0:.2f}'.format(stdev_ef_t) + '\\nexp-two-time: ' + str(avg_es_t) + '  SD: {0:.2f}'.format(stdev_es_t)) #1回目と2回目の実験の開始時刻に差があるか"
   ],
   "metadata": {
    "collapsed": false,
    "pycharm": {
     "name": "#%%\n",
     "is_executing": false
    }
   }
  },
  {
   "cell_type": "code",
   "execution_count": 32,
   "outputs": [
    {
     "name": "stdout",
     "text": [
      "fd-average-alcohol: 34.599999999999994  SD: 50.34\nsd-average-alcohol: 15.200000000000001  SD: 19.16\n"
     ],
     "output_type": "stream"
    },
    {
     "data": {
      "text/plain": "LeveneResult(statistic=0.3660959030945744, pvalue=0.5555552859151149)"
     },
     "metadata": {},
     "output_type": "execute_result",
     "execution_count": 32
    }
   ],
   "source": [
    "fd_alc = first_drunk.iloc[:, [8]] #first_drunk_alcohol\n",
    "sd_alc = second_drunk.iloc[:, [9]] #second_drunk_alcohol\n",
    "\n",
    "li_fd_alc = list(fd_alc.values.flatten())\n",
    "li_sd_alc = list(sd_alc.values.flatten()) #正規分布ではないくさい\n",
    "\n",
    "avg_fd_alc = sum(li_fd_alc) / len(li_fd_alc)\n",
    "avg_sd_alc = sum(li_sd_alc) / len(li_sd_alc)\n",
    "\n",
    "stdev_fd_alc = stdev(li_fd_alc)\n",
    "stdev_sd_alc = stdev(li_sd_alc)\n",
    "\n",
    "print('fd-average-alcohol: ' + str(avg_fd_alc) + '  SD: {0:.2f}'.format(stdev_fd_alc)+ '\\nsd-average-alcohol: ' + str(avg_sd_alc) + '  SD: {0:.2f}'.format(stdev_sd_alc))\n",
    "stats.mannwhitneyu(li_fd_alc, li_sd_alc, alternative='two-sided') #F検定p=0.043より等分散\n",
    "stats.levene(li_fd_alc, li_sd_alc)\n",
    "#stats.ttest_ind(li_fd_alc, li_sd_alc, equal_var=False)"
   ],
   "metadata": {
    "collapsed": false,
    "pycharm": {
     "name": "#%%\n",
     "is_executing": false
    }
   }
  },
  {
   "cell_type": "code",
   "execution_count": 12,
   "outputs": [
    {
     "name": "stdout",
     "text": [
      "exp 1 average-bias: 23.291333333333334  SD: 13.21\nexp 2 average-bias: 19.040666666666663  SD: 17.16\n"
     ],
     "output_type": "stream"
    },
    {
     "data": {
      "text/plain": "Ttest_relResult(statistic=1.3749003135010363, pvalue=0.190768270584416)"
     },
     "metadata": {},
     "output_type": "execute_result",
     "execution_count": 12
    }
   ],
   "source": [
    "exp_first_bias = mstdata.iloc[:, [4]] #bias of first experiment -all\n",
    "exp_second_bias = mstdata.iloc[:, [6]] #bias of second experiment -all\n",
    "\n",
    "li_ef_bias = list(exp_first_bias.values.flatten())\n",
    "li_es_bias = list(exp_second_bias.values.flatten())\n",
    "\n",
    "\n",
    "avg_ef_bias= sum(li_ef_bias) / len(li_ef_bias)\n",
    "avg_es_bias = sum(li_es_bias) / len(li_es_bias)\n",
    "\n",
    "stdev_ef_bias = stdev(li_ef_bias)\n",
    "stdev_es_bias = stdev(li_es_bias)\n",
    "\n",
    "print('exp 1 average-bias: ' + str(avg_ef_bias) + '  SD: {0:.2f}'.format(stdev_ef_bias)+ '\\nexp 2 average-bias: ' + str(avg_es_bias) + '  SD: {0:.2f}'.format(stdev_es_bias))\n",
    "stats.ttest_rel(li_ef_bias, li_es_bias)\n"
   ],
   "metadata": {
    "collapsed": false,
    "pycharm": {
     "name": "#%%\n",
     "is_executing": false
    }
   }
  },
  {
   "cell_type": "code",
   "execution_count": 13,
   "outputs": [
    {
     "data": {
      "text/plain": "<Figure size 432x288 with 2 Axes>",
      "image/png": "[encoded data removed]"
     },
     "metadata": {
      "needs_background": "light"
     },
     "output_type": "display_data"
    }
   ],
   "source": [
    "cond_data = pd.read_csv('condition.csv')\n",
    "\n",
    "li_ids = list(cond_data.iloc[:, [0]].values.flatten())\n",
    "li_alc = list(cond_data.iloc[:, [2]].values.flatten())\n",
    "li_sober = list(cond_data.iloc[:, [3]].values.flatten())\n",
    "li_amount_alc = list(cond_data.iloc[:, [1]].values.flatten())\n",
    "\n",
    "#plt.plot(li_ids, li_alc, ls=':', c='r')\n",
    "plt.scatter(li_ids, li_alc, c=li_amount_alc, edgecolors='k', cmap='Reds', vmin=0, vmax=50, label='Alcohol')\n",
    "plt.colorbar().set_label('Amount of Alc. [g]')\n",
    "plt.grid(axis='x')\n",
    "plt.scatter(li_ids, li_sober, marker='^', c='Black', label='Sober')\n",
    "plt.legend()\n",
    "plt.xticks([0,1,2,3,4,5,6,7,8,9,10,11,12,13,14,15, ])\n",
    "plt.xlabel('S\\'s ID')\n",
    "plt.ylabel('Percent Correct [%]')\n",
    "plt.savefig('fig_mst.png')"
   ],
   "metadata": {
    "collapsed": false,
    "pycharm": {
     "name": "#%%\n",
     "is_executing": false
    }
   }
  },
  {
   "cell_type": "code",
   "execution_count": 24,
   "outputs": [
    {
     "name": "stdout",
     "text": [
      "Alcohol-condition correct average: 57.48199999999998  SD: 9.32\nSober-condition correct average: 54.27933333333333  SD: 10.91\n"
     ],
     "output_type": "stream"
    },
    {
     "data": {
      "text/plain": "WilcoxonResult(statistic=26.0, pvalue=0.057033256194025425)"
     },
     "metadata": {},
     "output_type": "execute_result",
     "execution_count": 24
    }
   ],
   "source": [
    "\n",
    "avg_alc_pc= sum(li_alc) / len(li_alc)\n",
    "avg_sob_pc = sum(li_sober) / len(li_sober)\n",
    "\n",
    "stdev_alc_pc = stdev(li_alc)\n",
    "stdev_sob_pc = stdev(li_sober)\n",
    "\n",
    "print('Alcohol-condition correct average: ' + str(avg_alc_pc) + '  SD: {0:.2f}'.format(stdev_alc_pc)+ '\\nSober-condition correct average: ' + str(avg_sob_pc) + '  SD: {0:.2f}'.format(stdev_sob_pc))\n",
    "\n",
    "stats.ttest_rel(li_alc, li_sober)\n",
    "stats.wilcoxon(li_alc, li_sober, correction=True)\n"
   ],
   "metadata": {
    "collapsed": false,
    "pycharm": {
     "name": "#%%\n",
     "is_executing": false
    }
   }
  },
  {
   "cell_type": "code",
   "execution_count": 153,
   "outputs": [
    {
     "name": "stdout",
     "text": [
      "1回目飲酒群の正解率に違いは有るか\n Ttest_relResult(statistic=3.7876895182572294, pvalue=0.009097976256318644)\n2回目飲酒群の正解率に違いは有るか\n Ttest_relResult(statistic=-1.6332113037666527, pvalue=0.16335275328337495)\n"
     ],
     "output_type": "stream"
    }
   ],
   "source": [
    "#まきお、れんくん、つばさのデータを除く\n",
    "mstdata = pd.read_csv('mst.csv')\n",
    "dm_mstdata = mstdata.drop([5, 9])\n",
    "first_drunk = dm_mstdata[dm_mstdata['alc'] > 0]\n",
    "fd_pc = first_drunk.iloc[:, [2]]  #first_drunk_percent_correct\n",
    "fd_pc_s = first_drunk.iloc[:, [5]] #second_data\n",
    "\n",
    "li_fd_pc = list(fd_pc.values.flatten())\n",
    "li_fd_pc_s = list(fd_pc_s.values.flatten())\n",
    "\n",
    "fd_correct_ans = stats.ttest_rel(li_fd_pc, li_fd_pc_s)\n",
    "print('1回目飲酒群の正解率に違いは有るか\\n', fd_correct_ans)\n",
    "\n",
    "dm_mstdata.head(8)\n",
    "\n",
    "second_drunk = dm_mstdata[dm_mstdata['alc_second'] > 0]\n",
    "sd_pc = second_drunk.iloc[:, [2]] #second_drunk_percent_correct\n",
    "sd_pc_s = second_drunk.iloc[:, [5]] #second_data\n",
    "\n",
    "li_sd_pc = list(sd_pc.values.flatten())\n",
    "li_sd_pc_s = list(sd_pc_s.values.flatten())\n",
    "\n",
    "sd_correct_ans = stats.ttest_rel(li_sd_pc, li_sd_pc_s) #2回目に飲酒した群の1回目と2回目に差があるか\n",
    "print('2回目飲酒群の正解率に違いは有るか\\n', sd_correct_ans)"
   ],
   "metadata": {
    "collapsed": false,
    "pycharm": {
     "name": "#%%\n",
     "is_executing": false
    }
   }
  },
  {
   "cell_type": "code",
   "execution_count": 15,
   "outputs": [
    {
     "name": "stdout",
     "text": [
      "0      4.16\n1      5.73\n2      3.24\n3      4.18\n4     -9.99\n5      3.05\n6      1.88\n7     12.25\n8     17.87\n9      6.81\n10     4.16\n11     2.08\n12    -5.00\n13    -1.03\n14    -1.35\ndtype: float64\noutlier_min :-6.369999999999996, outlier_max :11.749999999999995\n0      4.16\n1      5.73\n2      3.24\n3      4.18\n4     -6.37\n5      3.05\n6      1.88\n7     11.75\n8     11.75\n9      6.81\n10     4.16\n11     2.08\n12    -5.00\n13    -1.03\n14    -1.35\ndtype: float64\n"
     ],
     "output_type": "stream"
    }
   ],
   "source": [
    "sa = np.array(li_alc) - np.array(li_sober)\n",
    "li_sa = sa.tolist()\n",
    "#print(sa)\n",
    "\n",
    "df_sa = pd.Series(sa)\n",
    "print(df_sa)\n",
    "\n",
    "def replace_outlier(series, bias=1.5):\n",
    "    #四分位数\n",
    "    q1 = series.quantile(.25)\n",
    "    q3 = series.quantile(.75)\n",
    "    iqr = q3 - q1\n",
    "\n",
    "    #外れ値の基準点\n",
    "    outlier_min = q1 - (iqr) * bias\n",
    "    outlier_max = q3 + (iqr) * bias\n",
    "\n",
    "    print(\"outlier_min :\" + str(outlier_min) + \", outlier_max :\" + str(outlier_max))\n",
    "\n",
    "    #外れ値をクリップする\n",
    "    series = series.clip(outlier_min, outlier_max)\n",
    "    return series\n",
    "\n",
    "rm_outlier_sa =  replace_outlier(df_sa)\n",
    "print(rm_outlier_sa)"
   ],
   "metadata": {
    "collapsed": false,
    "pycharm": {
     "name": "#%%\n",
     "is_executing": false
    }
   }
  },
  {
   "cell_type": "code",
   "execution_count": 33,
   "outputs": [
    {
     "name": "stdout",
     "text": [
      "Alcohol-condition correct average(rm): 56.71333333333332  SD: 10.14\nSober-condition correct average(rm): 54.387499999999996  SD: 10.03\nFirstDrunk-AUDIT(rm): 4.0  SD: 2.65\nSecondDrunk-AUDIT(rm): 4.166666666666667  SD: 3.46\nfd-average-alcohol(rm): 17.666666666666668  SD: 13.32\nsd-average-alcohol(rm): 12.933333333333332  SD: 19.93\nexp 1 average-bias(rm): 23.491666666666664  SD: 14.15\nexp 2 average-bias(rm): 18.929166666666667  SD: 17.79\n"
     ],
     "output_type": "stream"
    },
    {
     "data": {
      "text/plain": "BartlettResult(statistic=0.28441699336063664, pvalue=0.5938206694242499)"
     },
     "metadata": {},
     "output_type": "execute_result",
     "execution_count": 33
    }
   ],
   "source": [
    "rm_cond_data = cond_data.drop([4,7,8])\n",
    "rm_cond_data.head(12)\n",
    "\n",
    "\n",
    "rm_li_ids = list(rm_cond_data.iloc[:, [0]].values.flatten())\n",
    "rm_li_alc = list(rm_cond_data.iloc[:, [2]].values.flatten())\n",
    "rm_li_sober = list(rm_cond_data.iloc[:, [3]].values.flatten())\n",
    "rm_li_amount_alc = list(rm_cond_data.iloc[:, [1]].values.flatten())\n",
    "\n",
    "\n",
    "rm_avg_alc_pc= sum(rm_li_alc) / len(rm_li_alc)\n",
    "rm_avg_sob_pc = sum(rm_li_sober) / len(rm_li_sober)\n",
    "\n",
    "rm_stdev_alc_pc = stdev(rm_li_alc)\n",
    "rm_stdev_sob_pc = stdev(rm_li_sober)\n",
    "\n",
    "print('Alcohol-condition correct average(rm): ' + str(rm_avg_alc_pc) + '  SD: {0:.2f}'.format(rm_stdev_alc_pc)+ '\\nSober-condition correct average(rm): ' + str(rm_avg_sob_pc) + '  SD: {0:.2f}'.format(rm_stdev_sob_pc))\n",
    "\n",
    "rm_mstdata = pd.read_csv('mst.csv').drop([0, 5, 10])\n",
    "rm_first_drunk = rm_mstdata[rm_mstdata['alc'] > 0]\n",
    "rm_second_drunk = rm_mstdata[rm_mstdata['alc_second'] > 0]\n",
    "\n",
    "rm_fd_audit = rm_first_drunk.iloc[:, [7]] #first_drunk_audit\n",
    "rm_sd_audit = rm_second_drunk.iloc[:, [7]] #second_drunk_audit\n",
    "\n",
    "rm_li_fd_audit = list(rm_fd_audit.values.flatten())\n",
    "rm_li_sd_audit = list(rm_sd_audit.values.flatten())\n",
    "\n",
    "rm_avg_fd_audit = sum(rm_li_fd_audit) / len(rm_li_fd_audit) #average_fd_audit\n",
    "rm_avg_sd_audit = sum(rm_li_sd_audit) / len(rm_li_sd_audit) #average_sd_audit\n",
    "\n",
    "rm_stdev_fd_audit = stdev(rm_li_fd_audit)\n",
    "rm_stdev_sd_audit = stdev(rm_li_sd_audit)\n",
    "\n",
    "print('FirstDrunk-AUDIT(rm): ' + str(rm_avg_fd_audit)+ '  SD: {0:.2f}'.format(rm_stdev_fd_audit) + '\\nSecondDrunk-AUDIT(rm): ' + str(rm_avg_sd_audit) + '  SD: {0:.2f}'.format(rm_stdev_sd_audit)) #1回目と2回目の飲酒群にAUDITの差があるか\n",
    "\n",
    "rm_fd_alc = rm_first_drunk.iloc[:, [8]] #first_drunk_alcohol\n",
    "rm_sd_alc = rm_second_drunk.iloc[:, [9]] #second_drunk_alcohol\n",
    "\n",
    "rm_li_fd_alc = list(rm_fd_alc.values.flatten())\n",
    "rm_li_sd_alc = list(rm_sd_alc.values.flatten()) #正規分布ではないくさい\n",
    "\n",
    "rm_avg_fd_alc = sum(rm_li_fd_alc) / len(rm_li_fd_alc)\n",
    "rm_avg_sd_alc = sum(rm_li_sd_alc) / len(rm_li_sd_alc)\n",
    "\n",
    "rm_stdev_fd_alc = stdev(rm_li_fd_alc)\n",
    "rm_stdev_sd_alc = stdev(rm_li_sd_alc)\n",
    "\n",
    "print('fd-average-alcohol(rm): ' + str(rm_avg_fd_alc) + '  SD: {0:.2f}'.format(rm_stdev_fd_alc)+ '\\nsd-average-alcohol(rm): ' + str(rm_avg_sd_alc) + '  SD: {0:.2f}'.format(rm_stdev_sd_alc))\n",
    "\n",
    "\n",
    "rm_exp_first_bias = rm_mstdata.iloc[:, [4]] #bias of first experiment -all\n",
    "rm_exp_second_bias = rm_mstdata.iloc[:, [6]] #bias of second experiment -all\n",
    "\n",
    "rm_li_ef_bias = list(rm_exp_first_bias.values.flatten())\n",
    "rm_li_es_bias = list(rm_exp_second_bias.values.flatten())\n",
    "\n",
    "\n",
    "rm_avg_ef_bias= sum(rm_li_ef_bias) / len(rm_li_ef_bias)\n",
    "rm_avg_es_bias = sum(rm_li_es_bias) / len(rm_li_es_bias)\n",
    "\n",
    "rm_stdev_ef_bias = stdev(rm_li_ef_bias)\n",
    "rm_stdev_es_bias = stdev(rm_li_es_bias)\n",
    "\n",
    "print('exp 1 average-bias(rm): ' + str(rm_avg_ef_bias) + '  SD: {0:.2f}'.format(rm_stdev_ef_bias)+ '\\nexp 2 average-bias(rm): ' + str(rm_avg_es_bias) + '  SD: {0:.2f}'.format(rm_stdev_es_bias))\n",
    "\n",
    "#stats.spearmanr(rm_li_alc, rm_li_amount_alc)\n",
    "#stats.ttest_rel(rm_li_ef_bias, rm_li_es_bias)\n",
    "#stats.mannwhitneyu(rm_li_fd_alc, rm_li_sd_alc, alternative='two-sided') \n",
    "#stats.ttest_ind(rm_li_fd_audit, rm_li_sd_audit, equal_var=True)\n",
    "#stats.bartlett(rm_li_fd_audit, rm_li_sd_audit)\n",
    "#stats.ttest_rel(rm_li_alc, rm_li_sober)"
   ],
   "metadata": {
    "collapsed": false,
    "pycharm": {
     "name": "#%%\n",
     "is_executing": false
    }
   }
  },
  {
   "cell_type": "code",
   "execution_count": 18,
   "outputs": [
    {
     "data": {
      "text/plain": "<Figure size 432x288 with 1 Axes>",
      "image/png": "[encoded data removed]"
     },
     "metadata": {
      "needs_background": "light"
     },
     "output_type": "display_data"
    }
   ],
   "source": [
    "plt.scatter(li_amount_alc, li_alc)\n",
    "plt.xlabel('Amount of Alc. [g]')\n",
    "plt.ylabel('Percent Correct [%]')\n",
    "plt.savefig('fig_alc.png')"
   ],
   "metadata": {
    "collapsed": false,
    "pycharm": {
     "name": "#%%\n",
     "is_executing": false
    }
   }
  },
  {
   "cell_type": "code",
   "execution_count": 19,
   "outputs": [
    {
     "data": {
      "text/plain": "SpearmanrResult(correlation=0.8982196964349441, pvalue=0.002438796796382353)"
     },
     "metadata": {},
     "output_type": "execute_result",
     "execution_count": 19
    },
    {
     "data": {
      "text/plain": "<Figure size 432x288 with 1 Axes>",
      "image/png": "[encoded data removed]"
     },
     "metadata": {
      "needs_background": "light"
     },
     "output_type": "display_data"
    }
   ],
   "source": [
    "fd_amount_alc = first_drunk.iloc[:, [8]]\n",
    "li_fd_amount_alc = list(fd_amount_alc.values.flatten())\n",
    "\n",
    "plt.scatter(li_fd_amount_alc, li_fd_pc)\n",
    "plt.title('First Drinking Group')\n",
    "plt.xlabel('Amount of Alc. [g]')\n",
    "plt.ylabel('Percent Correct [%]')\n",
    "plt.savefig('fig_fd_relativity.png')\n",
    "stats.spearmanr(li_fd_amount_alc, li_fd_pc)"
   ],
   "metadata": {
    "collapsed": false,
    "pycharm": {
     "name": "#%%\n",
     "is_executing": false
    }
   }
  },
  {
   "cell_type": "code",
   "execution_count": 20,
   "outputs": [
    {
     "data": {
      "text/plain": "SpearmanrResult(correlation=0.03571428571428572, pvalue=0.9394082054712856)"
     },
     "metadata": {},
     "output_type": "execute_result",
     "execution_count": 20
    },
    {
     "data": {
      "text/plain": "<Figure size 432x288 with 1 Axes>",
      "image/png": "[encoded data removed]"
     },
     "metadata": {
      "needs_background": "light"
     },
     "output_type": "display_data"
    }
   ],
   "source": [
    "\"\"\"2回目飲酒群にアルコール量と正解率に相関があるか\"\"\"\n",
    "sd_amount_alc = second_drunk.iloc[:, [9]]\n",
    "li_sd_amount_alc = list(sd_amount_alc.values.flatten())\n",
    "\n",
    "plt.scatter(li_sd_amount_alc, li_sd_pc_s)\n",
    "plt.title('Second Drinking Group')\n",
    "plt.xlabel('Amount of Alc. [g]')\n",
    "plt.ylabel('Percent Correct [%]')\n",
    "plt.savefig('fig_sd_relativity.png')\n",
    "stats.spearmanr(li_sd_amount_alc, li_sd_pc_s) #アルコール量は正規分布に従っていないのでスピアマンの順位相関係数"
   ],
   "metadata": {
    "collapsed": false,
    "pycharm": {
     "name": "#%%\n",
     "is_executing": false
    }
   }
  },
  {
   "cell_type": "code",
   "execution_count": 21,
   "outputs": [
    {
     "data": {
      "text/plain": "<matplotlib.collections.PathCollection at 0x1183de750>"
     },
     "metadata": {},
     "output_type": "execute_result",
     "execution_count": 21
    },
    {
     "data": {
      "text/plain": "<Figure size 432x288 with 1 Axes>",
      "image/png": "[encoded data removed]"
     },
     "metadata": {
      "needs_background": "light"
     },
     "output_type": "display_data"
    }
   ],
   "source": [
    "\"\"\"1回目飲酒群は時刻帯によって正解率の差があるか\"\"\"\n",
    "fd_t = first_drunk.iloc[:, [10]]\n",
    "li_fd_t = list(fd_t.values.flatten())\n",
    "\n",
    "plt.scatter(li_fd_t, li_fd_pc)"
   ],
   "metadata": {
    "collapsed": false,
    "pycharm": {
     "name": "#%%\n",
     "is_executing": false
    }
   }
  },
  {
   "cell_type": "code",
   "execution_count": 22,
   "outputs": [
    {
     "data": {
      "text/plain": "<matplotlib.collections.PathCollection at 0x1a1ac00950>"
     },
     "metadata": {},
     "output_type": "execute_result",
     "execution_count": 22
    },
    {
     "data": {
      "text/plain": "<Figure size 432x288 with 1 Axes>",
      "image/png": "[encoded data removed]"
     },
     "metadata": {
      "needs_background": "light"
     },
     "output_type": "display_data"
    }
   ],
   "source": [
    "\"\"\"2回目飲酒群は時刻帯によって正解率の差があるか\"\"\"\n",
    "sd_t = second_drunk.iloc[:, [11]]\n",
    "li_sd_t = list(sd_t.values.flatten())\n",
    "\n",
    "plt.scatter(li_sd_t, li_sd_pc_s)"
   ],
   "metadata": {
    "collapsed": false,
    "pycharm": {
     "name": "#%%\n",
     "is_executing": false
    }
   }
  },
  {
   "cell_type": "code",
   "execution_count": 25,
   "outputs": [
    {
     "data": {
      "text/plain": "<matplotlib.collections.PathCollection at 0x1a1ad52d90>"
     },
     "metadata": {},
     "output_type": "execute_result",
     "execution_count": 25
    },
    {
     "data": {
      "text/plain": "<Figure size 432x288 with 1 Axes>",
      "image/png": "[encoded data removed]"
     },
     "metadata": {
      "needs_background": "light"
     },
     "output_type": "display_data"
    }
   ],
   "source": [
    "\"\"\"重ねる\"\"\"\n",
    "plt.scatter(li_fd_t, li_fd_pc, c='b')\n",
    "plt.scatter(li_sd_t, li_sd_pc_s, c='r')"
   ],
   "metadata": {
    "collapsed": false,
    "pycharm": {
     "name": "#%%\n",
     "is_executing": false
    }
   }
  },
  {
   "cell_type": "code",
   "execution_count": null,
   "outputs": [],
   "source": [
    "bias_data_e1 = pd.read_csv('e1d_bias.csv')\n",
    "e1_bias1 = bias_data_e1.loc[:, 'bias1']\n",
    "e1_bias2 = bias_data_e1.loc[:, 'bias2']\n",
    "\n",
    "li_e1_bias1 = list(e1_bias1.values.flatten())\n",
    "li_e1_bias2 = list(e1_bias2.values.flatten())\n",
    "\n",
    "\n"
   ],
   "metadata": {
    "collapsed": false,
    "pycharm": {
     "name": "#%%\n"
    }
   }
  }
 ],
 "metadata": {
  "language_info": {
   "codemirror_mode": {
    "name": "ipython",
    "version": 2
   },
   "file_extension": ".py",
   "mimetype": "text/x-python",
   "name": "python",
   "nbconvert_exporter": "python",
   "pygments_lexer": "ipython2",
   "version": "2.7.6"
  },
  "kernelspec": {
   "name": "pycharm-535ff19c",
   "language": "python",
   "display_name": "PyCharm (sotsuron)"
  },
  "pycharm": {
   "stem_cell": {
    "cell_type": "raw",
    "source": [],
    "metadata": {
     "collapsed": false
    }
   }
  }
 },
 "nbformat": 4,
 "nbformat_minor": 0
}